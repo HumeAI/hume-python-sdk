{
  "cells": [
    {
      "attachments": {},
      "cell_type": "markdown",
      "metadata": {},
      "source": [
        "## Batch API / Named Entity Recognition\n",
        "\n",
        "This notebook uses the batch API to identify entities in a body of text and then apply emotional labels to those entities."
      ]
    },
    {
      "cell_type": "code",
      "execution_count": null,
      "metadata": {},
      "outputs": [],
      "source": [
        "from utilities import print_emotions\n",
        "\n",
        "from hume import HumeBatchClient\n",
        "from hume.models.config import NerConfig"
      ]
    },
    {
      "attachments": {},
      "cell_type": "markdown",
      "metadata": {},
      "source": [
        "### Submit a batch job"
      ]
    },
    {
      "cell_type": "code",
      "execution_count": null,
      "metadata": {},
      "outputs": [],
      "source": [
        "client = HumeBatchClient(\"<your-api-key>\")\n",
        "\n",
        "# Submit the obama.txt file from the local disk\n",
        "files = [\"obama.txt\"]\n",
        "config = NerConfig()\n",
        "job = client.submit_job([], [config], files=files)\n",
        "\n",
        "print(\"Running...\", job)\n",
        "job.await_complete()\n",
        "print(\"Job completed with status: \", job.get_status())"
      ]
    },
    {
      "attachments": {},
      "cell_type": "markdown",
      "metadata": {},
      "source": [
        "### Print out predictions"
      ]
    },
    {
      "cell_type": "code",
      "execution_count": null,
      "metadata": {},
      "outputs": [],
      "source": [
        "full_predictions = job.get_predictions()\n",
        "for source in full_predictions:\n",
        "    predictions = source[\"results\"][\"predictions\"]\n",
        "    for prediction in predictions:\n",
        "        ner_predictions = prediction[\"models\"][\"ner\"][\"grouped_predictions\"]\n",
        "        for ner_prediction in ner_predictions:\n",
        "            for entity_data in ner_prediction[\"predictions\"]:\n",
        "                print(entity_data[\"entity\"])\n",
        "                print_emotions(entity_data[\"emotions\"])\n",
        "                print()"
      ]
    },
    {
      "cell_type": "code",
      "execution_count": null,
      "metadata": {},
      "outputs": [],
      "source": []
    }
  ],
  "metadata": {
    "kernelspec": {
      "display_name": "Python 3 (ipykernel)",
      "language": "python",
      "name": "python3"
    },
    "language_info": {
      "codemirror_mode": {
        "name": "ipython",
        "version": 3
      },
      "file_extension": ".py",
      "mimetype": "text/x-python",
      "name": "python",
      "nbconvert_exporter": "python",
      "pygments_lexer": "ipython3",
      "version": "3.8.16"
    },
    "vscode": {
      "interpreter": {
        "hash": "803ebf602b46e67aaba753b211048224996199ded4fc88a644a85d99d245b351"
      }
    }
  },
  "nbformat": 4,
  "nbformat_minor": 2
}
