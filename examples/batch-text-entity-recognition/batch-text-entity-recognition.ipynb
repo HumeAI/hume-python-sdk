{
  "cells": [
    {
      "cell_type": "markdown",
      "metadata": {},
      "source": [
        "## Batch API / Named Entity Recognition\n",
        "\n",
        "This notebook uses the batch API to identify entities in a body of text and then apply emotional labels to those entities."
      ]
    },
    {
      "cell_type": "code",
      "execution_count": null,
      "metadata": {},
      "outputs": [],
      "source": [
        "import json\n",
        "\n",
        "from utilities import print_emotions\n",
        "\n",
        "from hume import HumeBatchClient\n",
        "from hume.models.config import NerConfig\n",
        "\n",
        "client = HumeBatchClient(\"<your-api-key>\")\n",
        "urls = [\"https://storage.googleapis.com/hume-test-data/text/obama.txt\"]\n",
        "config = NerConfig()\n",
        "job = client.submit_job(urls, [config])\n",
        "\n",
        "print(job)\n",
        "print(\"Running...\")\n",
        "\n",
        "result = job.await_complete()\n",
        "download_filepath = \"predictions.json\"\n",
        "result.download_predictions(download_filepath)\n",
        "\n",
        "print(\"Predictions ready!\")\n",
        "print()\n",
        "\n",
        "with open(\"predictions.json\", \"r\") as fp:\n",
        "    predictions = json.load(fp)\n",
        "    for prediction in predictions:\n",
        "        for file_data in prediction[\"files\"]:\n",
        "            ner_predictions = file_data[\"models\"][\"ner\"]\n",
        "            for ner_prediction in ner_predictions:\n",
        "                for entity_data in ner_prediction[\"predictions\"]:\n",
        "                    print(entity_data[\"entity\"])\n",
        "                    print_emotions(entity_data[\"emotions\"])\n",
        "                    print()"
      ]
    },
    {
      "cell_type": "code",
      "execution_count": null,
      "metadata": {},
      "outputs": [],
      "source": []
    }
  ],
  "metadata": {
    "kernelspec": {
      "display_name": "Python 3 (ipykernel)",
      "language": "python",
      "name": "python3"
    },
    "language_info": {
      "codemirror_mode": {
        "name": "ipython",
        "version": 3
      },
      "file_extension": ".py",
      "mimetype": "text/x-python",
      "name": "python",
      "nbconvert_exporter": "python",
      "pygments_lexer": "ipython3",
      "version": "3.8.16"
    },
    "vscode": {
      "interpreter": {
        "hash": "803ebf602b46e67aaba753b211048224996199ded4fc88a644a85d99d245b351"
      }
    }
  },
  "nbformat": 4,
  "nbformat_minor": 2
}
