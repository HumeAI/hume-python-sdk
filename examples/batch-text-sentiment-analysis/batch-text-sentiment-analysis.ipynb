{
  "cells": [
    {
      "cell_type": "markdown",
      "metadata": {},
      "source": [
        "## Batch API / Sentiment Analysis\n",
        "\n",
        "This notebook uses the batch API to perform sentiment analysis on text."
      ]
    },
    {
      "cell_type": "code",
      "execution_count": null,
      "metadata": {},
      "outputs": [],
      "source": [
        "import json\n",
        "\n",
        "from utilities import print_emotions, print_sentiment\n",
        "\n",
        "from hume import HumeBatchClient\n",
        "from hume.models.config import LanguageConfig\n",
        "\n",
        "client = HumeBatchClient(\"<your-api-key>\")\n",
        "urls = [\"https://storage.googleapis.com/hume-test-data/text/happy.txt\"]\n",
        "config = LanguageConfig(sentiment={})\n",
        "job = client.submit_job(urls, [config])\n",
        "\n",
        "print(job)\n",
        "print(\"Running...\")\n",
        "\n",
        "job.await_complete()\n",
        "download_filepath = \"predictions.json\"\n",
        "job.download_predictions(download_filepath)\n",
        "\n",
        "print(\"Predictions ready!\")\n",
        "print()\n",
        "\n",
        "with open(\"predictions.json\", \"r\") as f:\n",
        "    full_predictions = json.load(f)\n",
        "    for source in full_predictions:\n",
        "        source_name = source[\"source\"][\"url\"]\n",
        "        predictions = source[\"results\"][\"predictions\"]\n",
        "        for prediction in predictions:\n",
        "            language_predictions = prediction[\"models\"][\"language\"][\"grouped_predictions\"]\n",
        "            for language_prediction in language_predictions:\n",
        "                for chunk in language_prediction[\"predictions\"]:\n",
        "                    print(chunk[\"text\"])\n",
        "                    print_emotions(chunk[\"emotions\"])\n",
        "                    print(\"~ ~ ~\")\n",
        "                    print_sentiment(chunk[\"sentiment\"])\n",
        "                    print()"
      ]
    },
    {
      "cell_type": "code",
      "execution_count": null,
      "metadata": {},
      "outputs": [],
      "source": []
    }
  ],
  "metadata": {
    "kernelspec": {
      "display_name": "Python 3 (ipykernel)",
      "language": "python",
      "name": "python3"
    },
    "language_info": {
      "codemirror_mode": {
        "name": "ipython",
        "version": 3
      },
      "file_extension": ".py",
      "mimetype": "text/x-python",
      "name": "python",
      "nbconvert_exporter": "python",
      "pygments_lexer": "ipython3",
      "version": "3.8.16"
    },
    "vscode": {
      "interpreter": {
        "hash": "803ebf602b46e67aaba753b211048224996199ded4fc88a644a85d99d245b351"
      }
    }
  },
  "nbformat": 4,
  "nbformat_minor": 2
}
