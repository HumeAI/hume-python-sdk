{
 "cells": [
  {
   "cell_type": "markdown",
   "metadata": {},
   "source": [
    "## Batch API / Facial Action Coding System\n",
    "\n",
    "This notebook uses the batch API to compare facial expression with FACS."
   ]
  },
  {
   "cell_type": "code",
   "execution_count": null,
   "metadata": {},
   "outputs": [],
   "source": [
    "import json\n",
    "\n",
    "from utilities import print_emotions\n",
    "\n",
    "from hume import HumeBatchClient\n",
    "from hume.models.config import FaceConfig\n",
    "\n",
    "client = HumeBatchClient(\"<your-api-key>\")\n",
    "urls = [\"https://tinyurl.com/hume-img\"]\n",
    "config = FaceConfig(facs={})\n",
    "job = client.submit_job(urls, [config])\n",
    "\n",
    "print(job)\n",
    "print(\"Running...\")\n",
    "\n",
    "job.await_complete()\n",
    "download_filepath = \"predictions.json\"\n",
    "job.download_predictions(download_filepath)\n",
    "\n",
    "print(\"Predictions ready!\")\n",
    "print()\n",
    "\n",
    "with open(\"predictions.json\", \"r\") as f:\n",
    "    full_predictions = json.load(f)\n",
    "    for source in full_predictions:\n",
    "        source_name = source[\"source\"][\"url\"]\n",
    "        predictions = source[\"results\"][\"predictions\"]\n",
    "        for prediction in predictions:\n",
    "            face_predictions = prediction[\"models\"][\"face\"][\"grouped_predictions\"]\n",
    "            for face_prediction in face_predictions:\n",
    "                for frame in face_prediction[\"predictions\"]:\n",
    "                    print_emotions(frame[\"emotions\"])"
   ]
  },
  {
   "cell_type": "code",
   "execution_count": null,
   "metadata": {},
   "outputs": [],
   "source": []
  }
 ],
 "metadata": {
  "kernelspec": {
   "display_name": "Python 3 (ipykernel)",
   "language": "python",
   "name": "python3"
  },
  "language_info": {
   "codemirror_mode": {
    "name": "ipython",
    "version": 3
   },
   "file_extension": ".py",
   "mimetype": "text/x-python",
   "name": "python",
   "nbconvert_exporter": "python",
   "pygments_lexer": "ipython3",
   "version": "3.8.16"
  },
  "vscode": {
   "interpreter": {
    "hash": "803ebf602b46e67aaba753b211048224996199ded4fc88a644a85d99d245b351"
   }
  }
 },
 "nbformat": 4,
 "nbformat_minor": 2
}
