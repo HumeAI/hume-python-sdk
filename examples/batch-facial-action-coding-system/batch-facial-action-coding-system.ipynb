{
 "cells": [
  {
   "cell_type": "markdown",
   "metadata": {},
   "source": [
    "## Batch API / Facial Action Coding System\n",
    "\n",
    "This notebook uses the batch API to compare facial expression with FACS."
   ]
  },
  {
   "cell_type": "code",
   "execution_count": null,
   "metadata": {},
   "outputs": [],
   "source": [
    "import json\n",
    "\n",
    "from utilities import print_emotions\n",
    "\n",
    "from hume import HumeBatchClient\n",
    "from hume.models.config import FaceConfig\n",
    "\n",
    "client = HumeBatchClient(\"<your-api-key>\")\n",
    "urls = [\"https://tinyurl.com/hume-img\"]\n",
    "config = FaceConfig(facs={})\n",
    "job = client.submit_job(urls, [config])\n",
    "\n",
    "print(job)\n",
    "print(\"Running...\")\n",
    "\n",
    "job.await_complete()\n",
    "download_filepath = \"predictions.json\"\n",
    "job.download_predictions(download_filepath)\n",
    "\n",
    "print(\"Predictions ready!\")\n",
    "print()\n",
    "\n",
    "with open(\"predictions.json\", \"r\") as f:\n",
    "    predictions = json.load(f)\n",
    "    for prediction in predictions:\n",
    "        for file_data in prediction[\"files\"]:\n",
    "            face_predictions = file_data[\"models\"][\"face\"]\n",
    "            for face_prediction in face_predictions:\n",
    "                for frame in face_prediction[\"predictions\"]:\n",
    "                    print_emotions(frame[\"emotions\"])"
   ]
  },
  {
   "cell_type": "code",
   "execution_count": null,
   "metadata": {},
   "outputs": [],
   "source": []
  }
 ],
 "metadata": {
  "kernelspec": {
   "display_name": "Python 3 (ipykernel)",
   "language": "python",
   "name": "python3"
  },
  "language_info": {
   "codemirror_mode": {
    "name": "ipython",
    "version": 3
   },
   "file_extension": ".py",
   "mimetype": "text/x-python",
   "name": "python",
   "nbconvert_exporter": "python",
   "pygments_lexer": "ipython3",
   "version": "3.8.16"
  },
  "vscode": {
   "interpreter": {
    "hash": "803ebf602b46e67aaba753b211048224996199ded4fc88a644a85d99d245b351"
   }
  }
 },
 "nbformat": 4,
 "nbformat_minor": 2
}
