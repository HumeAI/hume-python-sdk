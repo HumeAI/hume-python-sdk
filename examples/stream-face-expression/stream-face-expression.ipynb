{
  "cells": [
    {
      "attachments": {},
      "cell_type": "markdown",
      "metadata": {},
      "source": [
        "## Stream / Face Expression\n",
        "\n",
        "This notebook uses the streaming API to analyze a stream of face images."
      ]
    },
    {
      "cell_type": "code",
      "execution_count": null,
      "metadata": {},
      "outputs": [],
      "source": [
        "import asyncio\n",
        "import traceback\n",
        "\n",
        "from utilities import download_file, print_emotions\n",
        "\n",
        "from hume import HumeStreamClient\n",
        "from hume.models.config import FaceConfig"
      ]
    },
    {
      "cell_type": "code",
      "execution_count": null,
      "metadata": {},
      "outputs": [],
      "source": [
        "filepath = download_file(\"https://storage.googleapis.com/hume-test-data/image/obama.png\")\n",
        "\n",
        "async def main():\n",
        "    try:\n",
        "        client = HumeStreamClient(\"<your-api-key>\")\n",
        "        \n",
        "        # Enable face identification to track unique faces over the streaming session\n",
        "        config = FaceConfig(identify_faces=True)\n",
        "        async with client.connect([config]) as socket:\n",
        "            result = await socket.send_file(filepath)\n",
        "            emotions = result[\"face\"][\"predictions\"][0][\"emotions\"]\n",
        "            print_emotions(emotions)\n",
        "    except Exception:\n",
        "        print(traceback.format_exc())\n",
        "\n",
        "# When running the streaming API outside of a Jupyter notebook you do not need these lines.\n",
        "# Jupyter has its own async event loop, so this merges main into the Jupyter event loop.\n",
        "# To run this sample in a script with asyncio you can use `asyncio.run(main())`\n",
        "loop = asyncio.get_event_loop()\n",
        "loop.create_task(main())"
      ]
    },
    {
      "cell_type": "code",
      "execution_count": null,
      "metadata": {},
      "outputs": [],
      "source": []
    }
  ],
  "metadata": {
    "kernelspec": {
      "display_name": "hume",
      "language": "python",
      "name": "hume"
    },
    "language_info": {
      "codemirror_mode": {
        "name": "ipython",
        "version": 3
      },
      "file_extension": ".py",
      "mimetype": "text/x-python",
      "name": "python",
      "nbconvert_exporter": "python",
      "pygments_lexer": "ipython3",
      "version": "3.8.16"
    },
    "vscode": {
      "interpreter": {
        "hash": "803ebf602b46e67aaba753b211048224996199ded4fc88a644a85d99d245b351"
      }
    }
  },
  "nbformat": 4,
  "nbformat_minor": 2
}
