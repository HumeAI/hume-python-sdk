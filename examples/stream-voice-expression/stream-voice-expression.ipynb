{
  "cells": [
    {
      "cell_type": "markdown",
      "metadata": {},
      "source": [
        "## Stream / Voice Expression\n",
        "\n",
        "This notebook uses the streaming API to analyze a stream of vocal audio data."
      ]
    },
    {
      "cell_type": "code",
      "execution_count": null,
      "metadata": {},
      "outputs": [],
      "source": [
        "import asyncio\n",
        "import traceback\n",
        "\n",
        "from utilities import download_file, print_emotions\n",
        "\n",
        "from hume import HumeStreamClient\n",
        "from hume.models.config import BurstConfig, ProsodyConfig\n",
        "\n",
        "filepath = download_file(\"https://storage.googleapis.com/hume-test-data/audio/ninth-century-laugh.mp3\")\n",
        "\n",
        "async def main():\n",
        "    try:\n",
        "        client = HumeStreamClient(\"<your-api-key>\")\n",
        "        burst_config = BurstConfig()\n",
        "        prosody_config = ProsodyConfig()\n",
        "        async with client.connect([burst_config, prosody_config]) as socket:\n",
        "            result = await socket.send_file(filepath)\n",
        "            \n",
        "            print()\n",
        "            print(\"Speech prosody:\")\n",
        "            emotions = result[\"prosody\"][\"predictions\"][0][\"emotions\"]\n",
        "            print_emotions(emotions)\n",
        "\n",
        "            print()\n",
        "            print(\"Vocal burst\")\n",
        "            emotions = result[\"burst\"][\"predictions\"][0][\"emotions\"]\n",
        "            print_emotions(emotions)\n",
        "    except Exception:\n",
        "        print(traceback.format_exc())\n",
        "\n",
        "# Jupyter has its own async event loop, so merge main into the Jupyter event loop\n",
        "# When running the streaming API outside of a Jupyter notebook you do not need these lines\n",
        "# To run in a script with asyncio you can use `asyncio.run(main())`\n",
        "loop = asyncio.get_event_loop()\n",
        "loop.create_task(main())"
      ]
    },
    {
      "cell_type": "code",
      "execution_count": null,
      "metadata": {},
      "outputs": [],
      "source": []
    }
  ],
  "metadata": {
    "kernelspec": {
      "display_name": "hume",
      "language": "python",
      "name": "hume"
    },
    "language_info": {
      "codemirror_mode": {
        "name": "ipython",
        "version": 3
      },
      "file_extension": ".py",
      "mimetype": "text/x-python",
      "name": "python",
      "nbconvert_exporter": "python",
      "pygments_lexer": "ipython3",
      "version": "3.8.16"
    },
    "vscode": {
      "interpreter": {
        "hash": "803ebf602b46e67aaba753b211048224996199ded4fc88a644a85d99d245b351"
      }
    }
  },
  "nbformat": 4,
  "nbformat_minor": 2
}
