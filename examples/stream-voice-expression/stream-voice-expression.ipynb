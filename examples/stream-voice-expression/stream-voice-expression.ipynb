{
  "cells": [
    {
      "cell_type": "markdown",
      "metadata": {},
      "source": [
        "## Stream / Voice Expression\n",
        "\n",
        "This notebook uses the streaming API to analyze a stream of vocal audio data."
      ]
    },
    {
      "cell_type": "code",
      "execution_count": null,
      "metadata": {},
      "outputs": [],
      "source": [
        "import asyncio\n",
        "import traceback\n",
        "\n",
        "from utilities import download_file, encode_audio, generate_audio_stream, print_emotions\n",
        "\n",
        "from hume import HumeStreamClient\n",
        "from hume.models.config import BurstConfig, ProsodyConfig"
      ]
    },
    {
      "cell_type": "code",
      "execution_count": null,
      "metadata": {},
      "outputs": [],
      "source": [
        "filepath = download_file(\"https://storage.googleapis.com/hume-test-data/audio/ninth-century-laugh.mp3\")\n",
        "\n",
        "async def main():\n",
        "    try:\n",
        "        client = HumeStreamClient(\"<your-api-key>\")\n",
        "        burst_config = BurstConfig()\n",
        "        prosody_config = ProsodyConfig()\n",
        "        async with client.connect([burst_config, prosody_config]) as socket:\n",
        "\n",
        "            for sample_number, audio_sample in enumerate(generate_audio_stream(filepath)):\n",
        "                encoded_sample = encode_audio(audio_sample)\n",
        "                \n",
        "                # Reset connection stream context between samples\n",
        "                await socket.reset_stream()\n",
        "\n",
        "                result = await socket.send_bytes(encoded_sample)\n",
        "\n",
        "                print(f\"\\nStreaming sample {sample_number + 1}\")\n",
        "\n",
        "                print(\"Speech prosody:\")\n",
        "                if \"warning\" in result[\"prosody\"]:\n",
        "                    print(result[\"prosody\"][\"warning\"])\n",
        "                else:\n",
        "                    emotions = result[\"prosody\"][\"predictions\"][0][\"emotions\"]\n",
        "                    print_emotions(emotions)\n",
        "\n",
        "                print(\"Vocal burst\")\n",
        "                if \"warning\" in result[\"burst\"]:\n",
        "                    print(result[\"burst\"][\"warning\"])\n",
        "                else:\n",
        "                    emotions = result[\"burst\"][\"predictions\"][0][\"emotions\"]\n",
        "                    print_emotions(emotions)\n",
        "    except Exception:\n",
        "        print(traceback.format_exc())\n",
        "\n",
        "# When running the streaming API outside of a Jupyter notebook you do not need these lines.\n",
        "# Jupyter has its own async event loop, so this merges main into the Jupyter event loop.\n",
        "# To run this sample in a script with asyncio you can use `asyncio.run(main())`\n",
        "loop = asyncio.get_event_loop()\n",
        "loop.create_task(main())"
      ]
    },
    {
      "cell_type": "code",
      "execution_count": null,
      "metadata": {},
      "outputs": [],
      "source": []
    }
  ],
  "metadata": {
    "kernelspec": {
      "display_name": "hume",
      "language": "python",
      "name": "python3"
    },
    "language_info": {
      "codemirror_mode": {
        "name": "ipython",
        "version": 3
      },
      "file_extension": ".py",
      "mimetype": "text/x-python",
      "name": "python",
      "nbconvert_exporter": "python",
      "pygments_lexer": "ipython3",
      "version": "3.8.16"
    }
  },
  "nbformat": 4,
  "nbformat_minor": 2
}
