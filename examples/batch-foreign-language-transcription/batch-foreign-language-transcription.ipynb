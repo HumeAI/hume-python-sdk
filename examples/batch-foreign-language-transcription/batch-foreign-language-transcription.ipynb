{
  "cells": [
    {
      "attachments": {},
      "cell_type": "markdown",
      "metadata": {},
      "source": [
        "## Batch API / Foreign Language Transcription\n",
        "\n",
        "This notebook uses the batch API to analyze emotion in a language of your choice."
      ]
    },
    {
      "cell_type": "code",
      "execution_count": null,
      "metadata": {},
      "outputs": [],
      "source": [
        "from utilities import print_emotions\n",
        "\n",
        "from hume import HumeBatchClient, TranscriptionConfig\n",
        "from hume.models.config import ProsodyConfig"
      ]
    },
    {
      "attachments": {},
      "cell_type": "markdown",
      "metadata": {},
      "source": [
        "### Submit a batch job"
      ]
    },
    {
      "cell_type": "code",
      "execution_count": null,
      "metadata": {},
      "outputs": [],
      "source": [
        "client = HumeBatchClient(\"<your-api-key>\")\n",
        "\n",
        "urls = [\"https://storage.googleapis.com/hume-test-data/audio/ninth-century-laugh.mp3\"]\n",
        "prosody_config = ProsodyConfig()\n",
        "transcription_config = TranscriptionConfig(language=\"ja\")  # Will detect Japanese\n",
        "job = client.submit_job(urls, [prosody_config])\n",
        "\n",
        "print(\"Running...\", job)\n",
        "job.await_complete()\n",
        "print(\"Job completed with status: \", job.get_status())"
      ]
    },
    {
      "cell_type": "markdown",
      "metadata": {},
      "source": [
        "### Print out predictions"
      ]
    },
    {
      "cell_type": "code",
      "execution_count": null,
      "metadata": {},
      "outputs": [],
      "source": [
        "full_predictions = job.get_predictions()\n",
        "for source in full_predictions:\n",
        "    source_name = source[\"source\"][\"url\"]\n",
        "    predictions = source[\"results\"][\"predictions\"]\n",
        "    for prediction in predictions:\n",
        "        prosody_predictions = prediction[\"models\"][\"prosody\"][\"grouped_predictions\"]\n",
        "        for prosody_prediction in prosody_predictions:\n",
        "            for segment in prosody_prediction[\"predictions\"][:1]:\n",
        "                print_emotions(segment[\"emotions\"])"
      ]
    },
    {
      "cell_type": "code",
      "execution_count": null,
      "metadata": {},
      "outputs": [],
      "source": []
    }
  ],
  "metadata": {
    "kernelspec": {
      "display_name": "Python 3 (ipykernel)",
      "language": "python",
      "name": "python3"
    },
    "language_info": {
      "codemirror_mode": {
        "name": "ipython",
        "version": 3
      },
      "file_extension": ".py",
      "mimetype": "text/x-python",
      "name": "python",
      "nbconvert_exporter": "python",
      "pygments_lexer": "ipython3",
      "version": "3.8.16"
    },
    "vscode": {
      "interpreter": {
        "hash": "803ebf602b46e67aaba753b211048224996199ded4fc88a644a85d99d245b351"
      }
    }
  },
  "nbformat": 4,
  "nbformat_minor": 2
}
