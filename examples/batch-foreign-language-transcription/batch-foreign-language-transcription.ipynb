{
  "cells": [
    {
      "attachments": {},
      "cell_type": "markdown",
      "metadata": {},
      "source": [
        "## Batch API / Foreign Language Transcription\n",
        "\n",
        "This notebook uses the batch API to analyze emotion in a language of your choice."
      ]
    },
    {
      "cell_type": "code",
      "execution_count": null,
      "metadata": {},
      "outputs": [],
      "source": [
        "import json\n",
        "\n",
        "from utilities import print_emotions\n",
        "\n",
        "from hume import HumeBatchClient, TranscriptionConfig\n",
        "from hume.models.config import ProsodyConfig\n",
        "\n",
        "client = HumeBatchClient(\"<your-api-key>\")\n",
        "urls = [\"https://storage.googleapis.com/hume-test-data/audio/ninth-century-laugh.mp3\"]\n",
        "prosody_config = ProsodyConfig()\n",
        "transcription_config = TranscriptionConfig(language=\"ja\")  # Will detect Japanese\n",
        "job = client.submit_job(urls, [prosody_config])\n",
        "\n",
        "print(job)\n",
        "print(\"Running...\")\n",
        "\n",
        "job.await_complete()\n",
        "download_filepath = \"predictions.json\"\n",
        "job.download_predictions(download_filepath)\n",
        "\n",
        "print(\"Predictions ready!\")\n",
        "\n",
        "with open(\"predictions.json\", \"r\") as f:\n",
        "    full_predictions = json.load(f)\n",
        "    for source in full_predictions:\n",
        "        source_name = source[\"source\"][\"url\"]\n",
        "        predictions = source[\"results\"][\"predictions\"]\n",
        "        for prediction in predictions:\n",
        "            prosody_predictions = prediction[\"models\"][\"prosody\"][\"grouped_predictions\"]\n",
        "            for prosody_prediction in prosody_predictions:\n",
        "                for segment in prosody_prediction[\"predictions\"][:1]:\n",
        "                    print_emotions(segment[\"emotions\"])"
      ]
    },
    {
      "cell_type": "code",
      "execution_count": null,
      "metadata": {},
      "outputs": [],
      "source": []
    }
  ],
  "metadata": {
    "kernelspec": {
      "display_name": "Python 3 (ipykernel)",
      "language": "python",
      "name": "python3"
    },
    "language_info": {
      "codemirror_mode": {
        "name": "ipython",
        "version": 3
      },
      "file_extension": ".py",
      "mimetype": "text/x-python",
      "name": "python",
      "nbconvert_exporter": "python",
      "pygments_lexer": "ipython3",
      "version": "3.8.16"
    },
    "vscode": {
      "interpreter": {
        "hash": "803ebf602b46e67aaba753b211048224996199ded4fc88a644a85d99d245b351"
      }
    }
  },
  "nbformat": 4,
  "nbformat_minor": 2
}
