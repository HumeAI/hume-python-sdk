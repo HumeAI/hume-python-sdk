{
  "cells": [
    {
      "attachments": {},
      "cell_type": "markdown",
      "metadata": {},
      "source": [
        "## Batch API / Voice Expression\n",
        "\n",
        "This notebook uses the batch API to analyze emotion in the spoken word and in emotional sounds."
      ]
    },
    {
      "cell_type": "code",
      "execution_count": null,
      "metadata": {},
      "outputs": [],
      "source": [
        "import json\n",
        "\n",
        "from utilities import print_emotions\n",
        "\n",
        "from hume import HumeBatchClient\n",
        "from hume.models.config import BurstConfig, ProsodyConfig\n",
        "\n",
        "client = HumeBatchClient(\"<your-api-key>\")\n",
        "urls = [\"https://storage.googleapis.com/hume-test-data/audio/ninth-century-laugh.mp3\"]\n",
        "burst_config = BurstConfig()\n",
        "prosody_config = ProsodyConfig()\n",
        "job = client.submit_job(urls, [burst_config, prosody_config])\n",
        "\n",
        "print(job)\n",
        "print(\"Running...\")\n",
        "\n",
        "job.await_complete()\n",
        "download_filepath = \"predictions.json\"\n",
        "job.download_predictions(download_filepath)\n",
        "\n",
        "print(\"Predictions ready!\")\n",
        "\n",
        "with open(\"predictions.json\", \"r\") as f:\n",
        "    full_predictions = json.load(f)\n",
        "    for source in full_predictions:\n",
        "        source_name = source[\"source\"][\"url\"]\n",
        "        predictions = source[\"results\"][\"predictions\"]\n",
        "        for prediction in predictions:\n",
        "            print()\n",
        "            print(\"Speech prosody\")\n",
        "            prosody_predictions = prediction[\"models\"][\"prosody\"][\"grouped_predictions\"]\n",
        "            for prosody_prediction in prosody_predictions:\n",
        "                for segment in prosody_prediction[\"predictions\"][:1]:\n",
        "                    print_emotions(segment[\"emotions\"])\n",
        "\n",
        "            print()\n",
        "            print(\"Vocal burst\")\n",
        "            burst_predictions = prediction[\"models\"][\"burst\"][\"grouped_predictions\"]\n",
        "            for burst_prediction in burst_predictions:\n",
        "                for segment in burst_prediction[\"predictions\"][:1]:\n",
        "                    print_emotions(segment[\"emotions\"])"
      ]
    },
    {
      "cell_type": "code",
      "execution_count": null,
      "metadata": {},
      "outputs": [],
      "source": []
    }
  ],
  "metadata": {
    "kernelspec": {
      "display_name": "Python 3 (ipykernel)",
      "language": "python",
      "name": "python3"
    },
    "language_info": {
      "codemirror_mode": {
        "name": "ipython",
        "version": 3
      },
      "file_extension": ".py",
      "mimetype": "text/x-python",
      "name": "python",
      "nbconvert_exporter": "python",
      "pygments_lexer": "ipython3",
      "version": "3.8.16"
    },
    "vscode": {
      "interpreter": {
        "hash": "803ebf602b46e67aaba753b211048224996199ded4fc88a644a85d99d245b351"
      }
    }
  },
  "nbformat": 4,
  "nbformat_minor": 2
}
