{
  "cells": [
    {
      "attachments": {},
      "cell_type": "markdown",
      "metadata": {},
      "source": [
        "## Stream / MediaPipe Facemesh Emotion\n",
        "\n",
        "This notebook uses the streaming API to analyze a MediaPipe facemesh."
      ]
    },
    {
      "cell_type": "code",
      "execution_count": 4,
      "metadata": {},
      "outputs": [],
      "source": [
        "import asyncio\n",
        "import traceback\n",
        "\n",
        "from utilities import download_file, print_emotions\n",
        "\n",
        "from hume import HumeStreamClient\n",
        "from hume.models.config import FacemeshConfig"
      ]
    },
    {
      "cell_type": "code",
      "execution_count": 5,
      "metadata": {},
      "outputs": [
        {
          "data": {
            "text/plain": [
              "<Task pending name='Task-11' coro=<main() running at /var/folders/4c/669c2tt93ds0203gsxghps040000gn/T/ipykernel_82056/3266482076.py:4>>"
            ]
          },
          "execution_count": 5,
          "metadata": {},
          "output_type": "execute_result"
        },
        {
          "name": "stdout",
          "output_type": "stream",
          "text": [
            "First Example\n",
            "- Joy: 0.960555\n",
            "- Sadness: 0.042825\n",
            "- Anger: 0.017645\n",
            "\n",
            "Second Example\n",
            "- Joy: 0.943304\n",
            "- Sadness: 0.060782\n",
            "- Anger: 0.023220\n"
          ]
        }
      ],
      "source": [
        "filepath = download_file(\"https://storage.googleapis.com/hume-test-data/landmarks/three-faces-mediapipe.json\")\n",
        "filepath_example_2 = download_file(\"https://storage.googleapis.com/hume-test-data/landmarks/facemesh-example-2.json\")\n",
        "\n",
        "async def main():\n",
        "    try:\n",
        "        client = HumeStreamClient(\"<your-api-key>\")\n",
        "        config = FacemeshConfig()\n",
        "        async with client.connect([config]) as socket:\n",
        "            result = await socket.send_file(filepath)\n",
        "            emotions = result[\"facemesh\"][\"predictions\"][0][\"emotions\"]\n",
        "            print(\"First Example\")\n",
        "            print_emotions(emotions)\n",
        "            \n",
        "            #The same socket can be used to send multiple files with one connection. \n",
        "            result= await socket.send_file(filepath_example_2)\n",
        "            emotions = result[\"facemesh\"][\"predictions\"][0][\"emotions\"]\n",
        "            print(\"\\nSecond Example\")\n",
        "            print_emotions(emotions)\n",
        "        \n",
        "    except Exception:\n",
        "        print(traceback.format_exc())\n",
        "\n",
        "# When running the streaming API outside of a Jupyter notebook you do not need these lines.\n",
        "# Jupyter has its own async event loop, so this merges main into the Jupyter event loop.\n",
        "# To run this sample in a script with asyncio you can use `asyncio.run(main())`\n",
        "loop = asyncio.get_event_loop()\n",
        "loop.create_task(main())"
      ]
    },
    {
      "cell_type": "code",
      "execution_count": null,
      "metadata": {},
      "outputs": [],
      "source": []
    }
  ],
  "metadata": {
    "kernelspec": {
      "display_name": ".venv",
      "language": "python",
      "name": "python3"
    },
    "language_info": {
      "codemirror_mode": {
        "name": "ipython",
        "version": 3
      },
      "file_extension": ".py",
      "mimetype": "text/x-python",
      "name": "python",
      "nbconvert_exporter": "python",
      "pygments_lexer": "ipython3",
      "version": "3.11.3"
    }
  },
  "nbformat": 4,
  "nbformat_minor": 2
}
