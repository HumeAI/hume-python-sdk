{
  "cells": [
    {
      "cell_type": "markdown",
      "metadata": {},
      "source": [
        "## Stream / Language Emotion\n",
        "\n",
        "This notebook uses the streaming API to analyze a MediaPipe facemesh."
      ]
    },
    {
      "cell_type": "code",
      "execution_count": null,
      "metadata": {},
      "outputs": [],
      "source": [
        "import asyncio\n",
        "import traceback\n",
        "\n",
        "from utilities import print_emotions\n",
        "\n",
        "from hume import HumeStreamClient\n",
        "from hume.models.config import LanguageConfig\n",
        "\n",
        "text = \"We're so excited for you to try out Hume's Python SDK. We really hope you like it!\"\n",
        "\n",
        "async def main():\n",
        "    try:\n",
        "        client = HumeStreamClient(\"<your-api-key>\")\n",
        "        config = LanguageConfig()\n",
        "        async with client.connect([config]) as socket:\n",
        "            result = await socket.send_text(text)\n",
        "            emotions = result[\"language\"][\"predictions\"][0][\"emotions\"]\n",
        "            print_emotions(emotions)\n",
        "    except Exception:\n",
        "        print(traceback.format_exc())\n",
        "\n",
        "# Jupyter has its own async event loop, so merge main into the Jupyter event loop\n",
        "# When running the streaming API outside of a Jupyter notebook you do not need these lines\n",
        "# To run in a script with asyncio you can use `asyncio.run(main())`\n",
        "loop = asyncio.get_event_loop()\n",
        "loop.create_task(main())"
      ]
    },
    {
      "cell_type": "code",
      "execution_count": null,
      "metadata": {},
      "outputs": [],
      "source": []
    }
  ],
  "metadata": {
    "kernelspec": {
      "display_name": "hume",
      "language": "python",
      "name": "hume"
    },
    "language_info": {
      "codemirror_mode": {
        "name": "ipython",
        "version": 3
      },
      "file_extension": ".py",
      "mimetype": "text/x-python",
      "name": "python",
      "nbconvert_exporter": "python",
      "pygments_lexer": "ipython3",
      "version": "3.8.16"
    },
    "vscode": {
      "interpreter": {
        "hash": "803ebf602b46e67aaba753b211048224996199ded4fc88a644a85d99d245b351"
      }
    }
  },
  "nbformat": 4,
  "nbformat_minor": 2
}
