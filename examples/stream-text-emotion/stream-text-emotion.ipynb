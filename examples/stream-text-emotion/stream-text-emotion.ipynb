{
  "cells": [
    {
      "cell_type": "markdown",
      "metadata": {},
      "source": [
        "## Stream / Language Emotion\n",
        "\n",
        "This notebook uses the streaming API to analyze a MediaPipe facemesh."
      ]
    },
    {
      "cell_type": "code",
      "execution_count": null,
      "metadata": {},
      "outputs": [],
      "source": [
        "import asyncio\n",
        "import time\n",
        "import traceback\n",
        "\n",
        "from utilities import print_emotions\n",
        "\n",
        "from hume import HumeStreamClient\n",
        "from hume.models.config import LanguageConfig"
      ]
    },
    {
      "cell_type": "code",
      "execution_count": null,
      "metadata": {},
      "outputs": [],
      "source": [
        "text_stream = [\n",
        "    \"Hello there! \",\n",
        "    \"I'm very excited to show \",\n",
        "    \"you a demonstration of text streaming \",\n",
        "    \"using the Hume expressive communication platform.\",\n",
        "]\n",
        "\n",
        "async def main():\n",
        "    try:\n",
        "        client = HumeStreamClient(\"<your-api-key>\")\n",
        "        config = LanguageConfig(granularity=\"sentence\")\n",
        "        async with client.connect([config]) as socket:\n",
        "            for text_sample in text_stream:\n",
        "                # Simulate real time speaking with a delay\n",
        "                time.sleep(0.25 * len(text_sample.split(\" \")))\n",
        "                result = await socket.send_text(text_sample)\n",
        "                emotions = result[\"language\"][\"predictions\"][0][\"emotions\"]\n",
        "                print(f\"\\n{text_sample}\")\n",
        "                print_emotions(emotions)\n",
        "    except Exception:\n",
        "        print(traceback.format_exc())\n",
        "\n",
        "# When running the streaming API outside of a Jupyter notebook you do not need these lines.\n",
        "# Jupyter has its own async event loop, so this merges main into the Jupyter event loop.\n",
        "# To run this sample in a script with asyncio you can use `asyncio.run(main())`\n",
        "loop = asyncio.get_event_loop()\n",
        "loop.create_task(main())"
      ]
    },
    {
      "cell_type": "code",
      "execution_count": null,
      "metadata": {},
      "outputs": [],
      "source": []
    }
  ],
  "metadata": {
    "kernelspec": {
      "display_name": "hume",
      "language": "python",
      "name": "python3"
    },
    "language_info": {
      "codemirror_mode": {
        "name": "ipython",
        "version": 3
      },
      "file_extension": ".py",
      "mimetype": "text/x-python",
      "name": "python",
      "nbconvert_exporter": "python",
      "pygments_lexer": "ipython3",
      "version": "3.8.16"
    }
  },
  "nbformat": 4,
  "nbformat_minor": 2
}
