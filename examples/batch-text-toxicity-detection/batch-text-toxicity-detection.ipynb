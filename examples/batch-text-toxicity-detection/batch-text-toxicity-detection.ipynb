{
  "cells": [
    {
      "cell_type": "markdown",
      "metadata": {},
      "source": [
        "## Batch API / Toxicity Detection\n",
        "\n",
        "This notebook uses the batch API to detect different forms of toxicity in text."
      ]
    },
    {
      "cell_type": "code",
      "execution_count": null,
      "metadata": {},
      "outputs": [],
      "source": [
        "from utilities import print_emotions, print_toxicity\n",
        "\n",
        "from hume import HumeBatchClient\n",
        "from hume.models.config import LanguageConfig"
      ]
    },
    {
      "cell_type": "markdown",
      "metadata": {},
      "source": [
        "### Submit a batch job"
      ]
    },
    {
      "cell_type": "code",
      "execution_count": null,
      "metadata": {},
      "outputs": [],
      "source": [
        "client = HumeBatchClient(\"<your-api-key>\")\n",
        "\n",
        "urls = [\"https://storage.googleapis.com/hume-test-data/text/happy.txt\"]\n",
        "config = LanguageConfig(toxicity={})\n",
        "\n",
        "# Send a notification to the email associated with your\n",
        "# Hume platform account when the batch job has completed\n",
        "job = client.submit_job(urls, [config])\n",
        "\n",
        "print(\"Running...\", job)\n",
        "job.await_complete()\n",
        "print(\"Job completed with status: \", job.get_status())"
      ]
    },
    {
      "cell_type": "markdown",
      "metadata": {},
      "source": [
        "### Print out predictions"
      ]
    },
    {
      "cell_type": "code",
      "execution_count": null,
      "metadata": {},
      "outputs": [],
      "source": [
        "full_predictions = job.get_predictions()\n",
        "for source in full_predictions:\n",
        "    source_name = source[\"source\"][\"url\"]\n",
        "    predictions = source[\"results\"][\"predictions\"]\n",
        "    for prediction in predictions:\n",
        "        language_predictions = prediction[\"models\"][\"language\"][\"grouped_predictions\"]\n",
        "        for language_prediction in language_predictions:\n",
        "            for chunk in language_prediction[\"predictions\"]:\n",
        "                print(chunk[\"text\"])\n",
        "                print_emotions(chunk[\"emotions\"])\n",
        "                print(\"~ ~ ~\")\n",
        "                print_toxicity(chunk[\"toxicity\"])\n",
        "                print()"
      ]
    },
    {
      "cell_type": "code",
      "execution_count": null,
      "metadata": {},
      "outputs": [],
      "source": []
    }
  ],
  "metadata": {
    "kernelspec": {
      "display_name": "Python 3 (ipykernel)",
      "language": "python",
      "name": "python3"
    },
    "language_info": {
      "codemirror_mode": {
        "name": "ipython",
        "version": 3
      },
      "file_extension": ".py",
      "mimetype": "text/x-python",
      "name": "python",
      "nbconvert_exporter": "python",
      "pygments_lexer": "ipython3",
      "version": "3.8.16"
    },
    "vscode": {
      "interpreter": {
        "hash": "803ebf602b46e67aaba753b211048224996199ded4fc88a644a85d99d245b351"
      }
    }
  },
  "nbformat": 4,
  "nbformat_minor": 2
}
